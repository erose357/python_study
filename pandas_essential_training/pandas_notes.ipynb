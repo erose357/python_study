{
 "cells": [
  {
   "cell_type": "markdown",
   "metadata": {},
   "source": [
    "# Pandas notes"
   ]
  },
  {
   "cell_type": "markdown",
   "metadata": {},
   "source": [
    "## Documentation"
   ]
  },
  {
   "cell_type": "markdown",
   "metadata": {},
   "source": [
    "Importing Pandas:"
   ]
  },
  {
   "cell_type": "code",
   "execution_count": 1,
   "metadata": {},
   "outputs": [],
   "source": [
    "import pandas"
   ]
  },
  {
   "cell_type": "code",
   "execution_count": 5,
   "metadata": {},
   "outputs": [
    {
     "data": {
      "text/plain": [
       "'1.1.3'"
      ]
     },
     "execution_count": 5,
     "metadata": {},
     "output_type": "execute_result"
    }
   ],
   "source": [
    "pandas.__version__"
   ]
  },
  {
   "cell_type": "code",
   "execution_count": 6,
   "metadata": {},
   "outputs": [],
   "source": [
    "import pandas as pd"
   ]
  },
  {
   "cell_type": "code",
   "execution_count": 11,
   "metadata": {},
   "outputs": [
    {
     "data": {
      "text/plain": [
       "'1.1.3'"
      ]
     },
     "execution_count": 11,
     "metadata": {},
     "output_type": "execute_result"
    }
   ],
   "source": [
    "pd.__version__"
   ]
  },
  {
   "cell_type": "markdown",
   "metadata": {},
   "source": [
    "pd.<tab> shows available methods"
   ]
  },
  {
   "cell_type": "markdown",
   "metadata": {},
   "source": [
    "use pd.<method name>? to get info about a method"
   ]
  },
  {
   "cell_type": "code",
   "execution_count": 13,
   "metadata": {},
   "outputs": [],
   "source": [
    "pd.read_csv?"
   ]
  },
  {
   "cell_type": "code",
   "execution_count": 15,
   "metadata": {},
   "outputs": [],
   "source": [
    "pd.concat?"
   ]
  },
  {
   "cell_type": "markdown",
   "metadata": {},
   "source": [
    "## DataFrames"
   ]
  },
  {
   "cell_type": "markdown",
   "metadata": {},
   "source": [
    "dataframes are like a two-dimensional array  \n",
    "similar to spreadsheet: rows and columns"
   ]
  },
  {
   "cell_type": "markdown",
   "metadata": {},
   "source": [
    "importing pandas:"
   ]
  },
  {
   "cell_type": "code",
   "execution_count": 16,
   "metadata": {},
   "outputs": [],
   "source": [
    "import pandas as pd"
   ]
  },
  {
   "cell_type": "markdown",
   "metadata": {},
   "source": [
    "read csv data into a dataframe named 'oo'"
   ]
  },
  {
   "cell_type": "code",
   "execution_count": null,
   "metadata": {},
   "outputs": [],
   "source": [
    "oo = pd.read_csv()"
   ]
  },
  {
   "cell_type": "markdown",
   "metadata": {},
   "source": [
    "display first 30 and last 30 rows by calling the name of the dataframe"
   ]
  },
  {
   "cell_type": "code",
   "execution_count": null,
   "metadata": {},
   "outputs": [],
   "source": [
    "oo"
   ]
  },
  {
   "cell_type": "markdown",
   "metadata": {},
   "source": [
    "## Series\n",
    "a one-dimensional array of indexed data  \n",
    "the first column is an index  \n",
    "the other columns refer to a series(column), i.e. City"
   ]
  },
  {
   "cell_type": "markdown",
   "metadata": {},
   "source": [
    "### accessing a single Series\n",
    "```\n",
    "DataFrame['SeriesName']\n",
    "DataFrame[\"SeriesName\"]\n",
    "DataFrame.SeriesName # will not work if the series name has a space\n",
    "```"
   ]
  },
  {
   "cell_type": "markdown",
   "metadata": {},
   "source": [
    "### accessing multiple Series\n",
    "`DataFrame[['SeriesName1','SeriesName2']]`"
   ]
  },
  {
   "cell_type": "markdown",
   "metadata": {},
   "source": [
    "### Find the object type\n",
    "(execute these code blocks later once I have the(or a) dataset)  \n",
    "```\n",
    "type(DataFrame)\n",
    "type(DataFrame.SeriesName)\n",
    "\n",
    "# passing a list creates a new dataframe\n",
    "type(DataFrame[['SeriesName1','SeriesName2']]\n",
    "```"
   ]
  },
  {
   "cell_type": "markdown",
   "metadata": {},
   "source": [
    "### Data Input\n",
    "```\n",
    "read_excel()\n",
    "read_json()\n",
    "read_sql_table()\n",
    "\n",
    "# NOTE:\n",
    "# hitting SHIFT+TAB when the cursor is inside the argument\n",
    "# parens of a method call with display the options data \n",
    "# for that method\n",
    "\n",
    "# If the data shows a bunch of NaN and the column headings\n",
    "# are off it's probably because the there are rows that need\n",
    "# to be skipped at the beginning of the file. skiprows can\n",
    "# be used for this, the header parameter also seems to help\n",
    "# with this.\n",
    "```\n",
    "\n"
   ]
  },
  {
   "cell_type": "markdown",
   "metadata": {},
   "source": [
    "### Shape\n",
    "can be used to confirmt the dimensions of the dataset\n",
    "```\n",
    "DataFrame.shape\n",
    "=> (<number of rows>, <number of columns>)\n",
    "\n",
    "DataFrame.shape(1)\n",
    "=> <number of columns>\n",
    "```"
   ]
  },
  {
   "cell_type": "markdown",
   "metadata": {},
   "source": [
    "### head() and tail()\n",
    "```\n",
    "DataFrame.head()\n",
    "=> first 5 rows of the DataFrame\n",
    "DataFrame.tail()\n",
    "=> last 5 rows fo the DataFrame\n",
    "# you can specify the number of rows to return by passing an \n",
    "# integer argument\n",
    "```"
   ]
  },
  {
   "cell_type": "markdown",
   "metadata": {},
   "source": [
    "### info()\n",
    "provides a summary of the DataFrame: \n",
    "- number of entries\n",
    "- data type\n",
    "- number of non null entries  \n",
    "`DataFrame.info()`"
   ]
  },
  {
   "cell_type": "markdown",
   "metadata": {},
   "source": [
    "## Basic Analysis\n",
    "### value_counts()\n",
    "returns a series object counting all of the unique values  \n",
    "The first value is the most commonly occuring value etc...  \n",
    "Set `dropna=False` to include counts of null values by default this is True\n",
    "```\n",
    "Series.value_coounts()\n",
    "```\n",
    "To determine how many medals were presented to men vs. women:  \n",
    "```\n",
    "oo.Gender.value_counts()\n",
    "```"
   ]
  },
  {
   "cell_type": "markdown",
   "metadata": {},
   "source": [
    "### sort_values()\n",
    "sort values in a Series\n",
    "```\n",
    "Series.sort_values()\n",
    "\n",
    "DataFrame.sort_values(['Series1','Series2'])\n",
    "DataFrame.<series name>.sort_values()\n",
    "\n",
    "oo.sort_values(by=['Edition','Athelete'])\n",
    "# this sorts by Edition first then by Athlete\n",
    "```"
   ]
  },
  {
   "cell_type": "markdown",
   "metadata": {},
   "source": [
    "### Boolean Indexing\n",
    "boolean vectors can be used to filter data  \n",
    "operators:  \n",
    "\n",
    "| Operator | Symbol |\n",
    "| :--- | :---: \n",
    "| AND | & |\n",
    "| OR | '|' |\n",
    "| NOT | - |\n",
    "\n",
    "```\n",
    "# find all the athletes who have won a gold medal\n",
    "# \n",
    "# this syntax returns a new data frame with all gold\n",
    "# medal athletes\n",
    "oo[oo.Medal == 'Gold']\n",
    "\n",
    "# this syntax returns the evaluation of the coparison\n",
    "oo.Medal == 'Gold'\n",
    "\n",
    "# all women athletes who have won a gold medal\n",
    "oo[(oo.medal == 'Gold') & (oo.Gender == 'Woman')]\n",
    "```"
   ]
  },
  {
   "cell_type": "markdown",
   "metadata": {},
   "source": [
    "### String Handling\n",
    "Series.str\n",
    "```\n",
    "Series.str.contains()\n",
    "Series.str.startswith()\n",
    "Series.str.isnumeric()\n",
    "\n",
    "# look up Flo Jo\n",
    "oo.Athlete.str.contains('Florence')\n",
    "\n",
    "# to display a new dataframe with all True values\n",
    "oo[oo.Athlete.str.contains('Florence')]\n",
    "```\n",
    "\n"
   ]
  },
  {
   "cell_type": "markdown",
   "metadata": {},
   "source": [
    "### Matplotlib\n",
    "```\n",
    "import matplotlib.pyplot as plt\n",
    "%matplotlib inline\n",
    "```"
   ]
  },
  {
   "cell_type": "markdown",
   "metadata": {},
   "source": [
    "#### Plot Types\n",
    "```\n",
    "plot()\n",
    "plot(kind='line') # track changes over a period of time\n",
    "plot(kind='bar') # comparing between two different groups\n",
    "plot(kind='barh') # same use as bar chart, different layout - swaps axes\n",
    "plot(kind='pie') # comparing parts of a whole, don't show change over time\n",
    "\n",
    "import matplotlib.pyplot as plt\n",
    "%matplotlib inline # view the graphs and plots in the Jupyter notebook\n",
    "\n",
    "fo = oo[oo.Edition == 1896] # first olympics\n",
    "fo.Sport.value_counts() # sports available in the first olympics\n",
    "fo.Sport.value_counts().plot(); # defalults  to line plot, ';' suppresss axis info line\n",
    "fo.Sport.value_counts.plot(kind='bar');\n",
    "fo.Sport.value_counts().plot(kind='barh'); \n",
    "fo.Sport.value_counts().plot(kind='pie'); \n",
    "```\n"
   ]
  },
  {
   "cell_type": "markdown",
   "metadata": {},
   "source": [
    "### Indexing\n",
    "- the index object is an immutable array\n",
    "- allows you to access a column or row using a label\n",
    "\n",
    "```\n",
    "type(DataFrame.index) # an index has it's own type\n",
    "DataFrame.index(100) # returns 100th item\n",
    "```\n"
   ]
  },
  {
   "cell_type": "markdown",
   "metadata": {},
   "source": [
    "#### set_index()\n",
    "- set the DataFrame using one or more columns\n",
    "```\n",
    "DataFrame.set_index(keys, drop=True, append=False, inplace=False, verify_integrity=False)\n",
    "oo.set_index('Athlete') # make Athlete column the index\n",
    "oo.set_index('Athlete', inplace=True) # inplace=True is necessary to actually set the index on the DataFrame\n",
    "```\n"
   ]
  },
  {
   "cell_type": "markdown",
   "metadata": {},
   "source": [
    "#### reset_index()\n",
    "- return DataFrame to default integer-based index\n",
    "```\n",
    "DataFrame.reset_index(level=None, drop=False)\n",
    "oo.reset_index(inplace=True)\n",
    "```"
   ]
  },
  {
   "cell_type": "markdown",
   "metadata": {},
   "source": [
    "#### sort_index()\n",
    "- sort objects by a label along the axis \n",
    "```\n",
    "DataFrame.sort_index(axis=0, level=None, ascending=True, inplace=False, ...by=None)\n",
    "ath.set_index('Athlete', inplace=True)\n",
    "ath.sort_index(inplace=True)\n",
    "```"
   ]
  },
  {
   "cell_type": "markdown",
   "metadata": {},
   "source": [
    "#### loc[]\n",
    "- a label-based indexer for selection by label\n",
    "- loc[] will raise a KeyError when the items are not found\n",
    "\n",
    "```\n",
    "DataFrame.loc[]\n",
    "DataFrame.Series.loc[]\n",
    "\n",
    "# traditional way to access data:\n",
    "oo[oo.Athlete == 'BOLT, Usain']\n",
    "# with loc[]\n",
    "oo.loc[oo.Athlete == 'BOLT, Usain']\n",
    "```\n"
   ]
  },
  {
   "cell_type": "markdown",
   "metadata": {},
   "source": [
    "#### iloc[]\n",
    "- primarily integer position based (from 0 to length-1 of the axis)\n",
    "- allows traditional pythonic slicing\n",
    "\n",
    "```\n",
    "DataFrame.iloc[]\n",
    "oo.iloc[1700] # grab specific index\n",
    "oo.iloc[[1542,2390,6000,15000]] # returns rows matching those indexes\n",
    "oo.iloc[1:4] # works like pythonic slicing\n",
    "```"
   ]
  },
  {
   "cell_type": "markdown",
   "metadata": {},
   "source": [
    "### Groupby\n",
    "- split a DataFrame into groups based on criteria\n",
    "- apply a function to each group independently\n",
    "- combine results into a DataFrame\n",
    "- group od DataFrames in a dict like structure\n",
    "\n",
    "```\n",
    "oo.groupby('Edition')\n",
    "=> # returns a groupby object\n",
    "\n",
    "# show how group by has grouped the dataframe rows\n",
    "list(oo.groupby('Edition')\n",
    "```"
   ]
  },
  {
   "cell_type": "markdown",
   "metadata": {},
   "source": [
    "#### Iterate through a Group\n",
    "\n",
    "```\n",
    "# loop through the groupby object\n",
    "for key,group in DataFrame.groupby():\n",
    "    print(key)\n",
    "    print(group)\n",
    "    \n",
    "for group_key, group_value in oo.groupby('Edition'):\n",
    "     print(group_key)\n",
    "     print(group)\n",
    "\n",
    "type(group_value)\n",
    "=> pandas.core.frame.DataFrame\n",
    "```\n",
    "\n"
   ]
  },
  {
   "cell_type": "markdown",
   "metadata": {},
   "source": [
    "#### Grouby computations\n",
    "\n",
    "```\n",
    "GroupBy.size()\n",
    "GroupBy.count()\n",
    "GroupBy.first(), GroupBy.last()\n",
    "GroupBy.head(), GroupBy.tail()\n",
    "GroupBy.mean()\n",
    "GroupBy.max(), GroupBy.min()\n",
    "\n",
    "agg() # multiple statistics in one calculation per group\n",
    "DataFrame.groupby(agg({..:[...]]})\n",
    "\n",
    "oo.groupby('Edition').size()\n",
    "\n",
    "agg([...])\n",
    "\n",
    "oo.groupby(['Edition', 'NOC', 'Medal']).agg(['min','max','count'])\n",
    "oo.groupby(['Edition', 'NOC', 'Medal']).agg('count')\n",
    "oo.groupby(['Edition', 'NOC', 'Medal']).size()\n",
    "oo.groupby(['Edition', 'NOC', 'Medal']).agg({'Edition': ['min','max','count']})\n",
    "\n",
    "oo.loc[oo.Athlete == 'LEWIS, Carl'].groupby('Athelete').agg({'Edition': ['min,'max','count']})\n",
    "```"
   ]
  },
  {
   "cell_type": "markdown",
   "metadata": {},
   "source": [
    "### Shaping\n",
    "#### stack() and unstack()\n",
    "- stacking\n",
    "- unstaking\n",
    "\n",
    "```\n",
    "# athletes that took part in either 100M or 200M\n",
    "mw = oo[(oo.Edition == 2008) & ((oo.Event == '100m') | (oo.Event == '200m'))]\n",
    "\n",
    "mw.groupby(['NOC', 'Gender', 'Discipline', 'Event']).size()\n",
    "df = g.unstack(['Discipline', 'Event'])\n",
    "```"
   ]
  },
  {
   "cell_type": "markdown",
   "metadata": {},
   "source": [
    "#### Stack\n",
    "- DataFrame.stack(level=1, dropna=True)\n",
    "- returns a DataFrame or a Series\n",
    "- Pivot a level of the column labels, returning a DataFrame or Series, with a new innermost level of row labels\n",
    "\n",
    "```\n",
    "df.stack() # make DataFrame taller\n",
    "df.stack('Event') # you can specify a column\n",
    "```\n"
   ]
  },
  {
   "cell_type": "markdown",
   "metadata": {},
   "source": [
    "#### Unstack\n",
    "- DataFrame.unstack(level=1, ful_value=None)\n",
    "- pivot a level of the index labels, returning a DataFrame having a new level of column labels\n",
    "- If the index isn't a MultiIndex, the output will be a Series - the level involved will automatically get sorted\n",
    "\n",
    "```\n",
    "df.unstack()\n",
    "df.unstack('Gender') # same result as above\n",
    "```\n"
   ]
  },
  {
   "cell_type": "code",
   "execution_count": null,
   "metadata": {},
   "outputs": [],
   "source": []
  }
 ],
 "metadata": {
  "kernelspec": {
   "display_name": "Python 3",
   "language": "python",
   "name": "python3"
  },
  "language_info": {
   "codemirror_mode": {
    "name": "ipython",
    "version": 3
   },
   "file_extension": ".py",
   "mimetype": "text/x-python",
   "name": "python",
   "nbconvert_exporter": "python",
   "pygments_lexer": "ipython3",
   "version": "3.8.5"
  }
 },
 "nbformat": 4,
 "nbformat_minor": 4
}
