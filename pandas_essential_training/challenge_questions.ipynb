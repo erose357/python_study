{
 "cells": [
  {
   "cell_type": "markdown",
   "metadata": {},
   "source": [
    "# Challenge questions"
   ]
  },
  {
   "cell_type": "markdown",
   "metadata": {},
   "source": [
    "## Challenge 1\n",
    "- list our Olympics DataFrame\n",
    "- List only the NOC column using botht he ['..'] and dot notation. What type is this object?\n",
    "- List the Edition, City, Athlete Name, and Medal columns. What type is this object?"
   ]
  },
  {
   "cell_type": "markdown",
   "metadata": {},
   "source": [
    "## Challenge 2\n",
    "- In which events did Jesse Owens win a medal?\n",
    "- Which country has won the most men's gold medals in singles badminton over the years?\n",
    "  - sort the results alphabetically by the player's names\n",
    "- Which three countries have won the most medals in recent years (from 1984-2008)\n",
    "- Display the male gold medal winners for the 100m track and field sprint event over the years.\n",
    "  - list the results starting with the most recent\n",
    "  - show the Olympic city, edition, athlete, and the country they represent"
   ]
  },
  {
   "cell_type": "markdown",
   "metadata": {},
   "source": [
    "## Challenge 3\n",
    "- Plot the total number of medals awarded at each of the Olympic games throughout history\n",
    "- Which countries did not win a medal in the 2008 Olympics? How many countries were there?"
   ]
  },
  {
   "cell_type": "markdown",
   "metadata": {},
   "source": [
    "## Challenge 4\n",
    "- Using groupby(), plot the total number of medals awarded at each of the Olympic games throughout history.\n",
    "- Create a list showing the otal number of medals won for each country over the history of the Olympics. For each country, include the year of the first and most recent Olympic medal wins."
   ]
  },
  {
   "cell_type": "markdown",
   "metadata": {},
   "source": [
    "## Challenge 5\n",
    "- Plot the number of gold medals won by the US male and female athletes throughout the history of the Olympics\n",
    "- Plot the five athletes who have won the most gold medals over the history of the Olympics. When there is a tie, consider the number of silver medals, and then bronze medals.\n"
   ]
  },
  {
   "cell_type": "code",
   "execution_count": null,
   "metadata": {},
   "outputs": [],
   "source": []
  }
 ],
 "metadata": {
  "kernelspec": {
   "display_name": "Python 3",
   "language": "python",
   "name": "python3"
  },
  "language_info": {
   "codemirror_mode": {
    "name": "ipython",
    "version": 3
   },
   "file_extension": ".py",
   "mimetype": "text/x-python",
   "name": "python",
   "nbconvert_exporter": "python",
   "pygments_lexer": "ipython3",
   "version": "3.8.5"
  }
 },
 "nbformat": 4,
 "nbformat_minor": 4
}
