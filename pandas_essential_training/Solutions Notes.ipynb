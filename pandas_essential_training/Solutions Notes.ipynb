{
 "cells": [
  {
   "cell_type": "markdown",
   "metadata": {},
   "source": [
    "# Solutions Notes"
   ]
  },
  {
   "cell_type": "markdown",
   "metadata": {},
   "source": [
    "## Challenge 2 Solutions\n",
    "### In which events did Jesse Owens win a medal?\n",
    "\n",
    "```\n",
    "oo.Athlete == 'OWENS, Jesse'\n",
    "jo = oo[oo.Athlete == 'OWENS, Jesse']\n",
    "jo.Event.value_counts()\n",
    "```\n",
    "\n",
    "### Which county has won the most men's gold medals in singles badminton over the years? Sort the results alphabetically by the player's names\n",
    "\n",
    "```\n",
    "gbm = oo[(oo.Medal == 'Gold') & (oo.Gender == 'Men') & (oo.Sport == 'Badminton')]\n",
    "gbm.sort_values(by='Athlete')\n",
    "```\n",
    "\n",
    "### Which three countries have won the most medals in recent years (from 1984 to 2008)\n",
    "```\n",
    "rec = oo[oo.Edition >= 1984]\n",
    "rec.NOC.value_counts().head(3)\n",
    "```\n",
    "### Display the male gold medal winners for the 100m Track & Field sprint event over the yeras. List the results starting with the most recent. Show the Olympic City, Edition, Athlete and the country they represent.\n",
    "```\n",
    "gmh = oo[(oo.Gender == 'Men') & (oo.Medal == 'Gold') & (oo.Event == '100m')]\n",
    "gmh.sort_values('Editions', ascending=False)[['City','Athlete','NOC']]\n",
    "```"
   ]
  },
  {
   "cell_type": "markdown",
   "metadata": {},
   "source": [
    "## Challenge 3 Solutions\n",
    "### Plot the total number of medals awarded at each of the Olympic games throughout history.\n",
    "\n",
    "```\n",
    "oo.Edition.value_counts()sort_index().plot()\n",
    "```\n",
    "\n",
    "### Which countries did not win a medal in the 2008 Olympics? How many countries were there?\n",
    "\n",
    "```\n",
    "# countries that won medals in 2008\n",
    "lo = oo[oo.Edition == 2008]\n",
    "\n",
    "# read in the data for all Olympic countries\n",
    "noc = pd.read_csv(<IOC Country Codes file>)\n",
    "\n",
    "# make sure there's no difference between the two columns that could effect results\n",
    "noc[noc['Country'] != noc['Country.1']]\n",
    "\n",
    "# set index\n",
    "noc.set_index('Int Olympic Committe code', inplace=True)\n",
    "\n",
    "# store series with 2008 medal data from original dataframe\n",
    "medals_2008 = lo.NOC.value_counts()\n",
    "\n",
    "# add a new sereis to noc data frame with the medal data\n",
    "# countries show NaN are countries that did not win a medal in the 2008 Olympics'\n",
    "noc['medal_2008'] = medal_2008 \n",
    "```"
   ]
  },
  {
   "cell_type": "code",
   "execution_count": null,
   "metadata": {},
   "outputs": [],
   "source": []
  }
 ],
 "metadata": {
  "kernelspec": {
   "display_name": "Python 3",
   "language": "python",
   "name": "python3"
  },
  "language_info": {
   "codemirror_mode": {
    "name": "ipython",
    "version": 3
   },
   "file_extension": ".py",
   "mimetype": "text/x-python",
   "name": "python",
   "nbconvert_exporter": "python",
   "pygments_lexer": "ipython3",
   "version": "3.8.5"
  }
 },
 "nbformat": 4,
 "nbformat_minor": 4
}
